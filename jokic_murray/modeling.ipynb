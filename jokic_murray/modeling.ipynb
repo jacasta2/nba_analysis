{
 "cells": [
  {
   "cell_type": "markdown",
   "metadata": {},
   "source": [
    "# Jokic's assists vs. Murray's points"
   ]
  },
  {
   "cell_type": "code",
   "execution_count": 1,
   "metadata": {},
   "outputs": [
    {
     "name": "stderr",
     "output_type": "stream",
     "text": [
      "IProgress not found. Please update jupyter and ipywidgets. See https://ipywidgets.readthedocs.io/en/stable/user_install.html\n"
     ]
    }
   ],
   "source": [
    "import pandas as pd\n",
    "import numpy as np\n",
    "import matplotlib.pyplot as plt\n",
    "from sklearn.preprocessing import StandardScaler\n",
    "from sklearn.linear_model import LogisticRegression\n",
    "import statsmodels.api as sm\n",
    "import scipy.stats\n",
    "import shap"
   ]
  },
  {
   "cell_type": "code",
   "execution_count": 2,
   "metadata": {},
   "outputs": [],
   "source": [
    "# We wanna see all columns of a DataFrame\n",
    "pd.set_option('display.max_columns', None)"
   ]
  },
  {
   "cell_type": "markdown",
   "metadata": {},
   "source": [
    "## 1. Data load and some processing"
   ]
  },
  {
   "cell_type": "code",
   "execution_count": 3,
   "metadata": {},
   "outputs": [
    {
     "data": {
      "text/html": [
       "<div>\n",
       "<style scoped>\n",
       "    .dataframe tbody tr th:only-of-type {\n",
       "        vertical-align: middle;\n",
       "    }\n",
       "\n",
       "    .dataframe tbody tr th {\n",
       "        vertical-align: top;\n",
       "    }\n",
       "\n",
       "    .dataframe thead th {\n",
       "        text-align: right;\n",
       "    }\n",
       "</style>\n",
       "<table border=\"1\" class=\"dataframe\">\n",
       "  <thead>\n",
       "    <tr style=\"text-align: right;\">\n",
       "      <th></th>\n",
       "      <th>WIN</th>\n",
       "      <th>JOKIC_PTS</th>\n",
       "      <th>JOKIC_REB</th>\n",
       "      <th>JOKIC_AST</th>\n",
       "      <th>MURRAY_PTS</th>\n",
       "      <th>MURRAY_REB</th>\n",
       "      <th>MURRAY_AST</th>\n",
       "      <th>REST_PTS</th>\n",
       "      <th>REST_REB</th>\n",
       "      <th>REST_AST</th>\n",
       "      <th>PLAYOFFS</th>\n",
       "    </tr>\n",
       "  </thead>\n",
       "  <tbody>\n",
       "    <tr>\n",
       "      <th>0</th>\n",
       "      <td>1</td>\n",
       "      <td>8</td>\n",
       "      <td>3</td>\n",
       "      <td>5</td>\n",
       "      <td>0</td>\n",
       "      <td>3</td>\n",
       "      <td>4</td>\n",
       "      <td>94</td>\n",
       "      <td>38</td>\n",
       "      <td>15</td>\n",
       "      <td>0</td>\n",
       "    </tr>\n",
       "    <tr>\n",
       "      <th>1</th>\n",
       "      <td>0</td>\n",
       "      <td>6</td>\n",
       "      <td>6</td>\n",
       "      <td>0</td>\n",
       "      <td>9</td>\n",
       "      <td>1</td>\n",
       "      <td>2</td>\n",
       "      <td>71</td>\n",
       "      <td>41</td>\n",
       "      <td>13</td>\n",
       "      <td>0</td>\n",
       "    </tr>\n",
       "    <tr>\n",
       "      <th>2</th>\n",
       "      <td>1</td>\n",
       "      <td>13</td>\n",
       "      <td>14</td>\n",
       "      <td>10</td>\n",
       "      <td>10</td>\n",
       "      <td>1</td>\n",
       "      <td>5</td>\n",
       "      <td>87</td>\n",
       "      <td>30</td>\n",
       "      <td>6</td>\n",
       "      <td>0</td>\n",
       "    </tr>\n",
       "    <tr>\n",
       "      <th>3</th>\n",
       "      <td>1</td>\n",
       "      <td>19</td>\n",
       "      <td>10</td>\n",
       "      <td>7</td>\n",
       "      <td>9</td>\n",
       "      <td>3</td>\n",
       "      <td>0</td>\n",
       "      <td>88</td>\n",
       "      <td>27</td>\n",
       "      <td>18</td>\n",
       "      <td>0</td>\n",
       "    </tr>\n",
       "    <tr>\n",
       "      <th>4</th>\n",
       "      <td>1</td>\n",
       "      <td>21</td>\n",
       "      <td>12</td>\n",
       "      <td>4</td>\n",
       "      <td>16</td>\n",
       "      <td>5</td>\n",
       "      <td>5</td>\n",
       "      <td>97</td>\n",
       "      <td>33</td>\n",
       "      <td>22</td>\n",
       "      <td>0</td>\n",
       "    </tr>\n",
       "  </tbody>\n",
       "</table>\n",
       "</div>"
      ],
      "text/plain": [
       "   WIN  JOKIC_PTS  JOKIC_REB  JOKIC_AST  MURRAY_PTS  MURRAY_REB  MURRAY_AST  \\\n",
       "0    1          8          3          5           0           3           4   \n",
       "1    0          6          6          0           9           1           2   \n",
       "2    1         13         14         10          10           1           5   \n",
       "3    1         19         10          7           9           3           0   \n",
       "4    1         21         12          4          16           5           5   \n",
       "\n",
       "   REST_PTS  REST_REB  REST_AST  PLAYOFFS  \n",
       "0        94        38        15         0  \n",
       "1        71        41        13         0  \n",
       "2        87        30         6         0  \n",
       "3        88        27        18         0  \n",
       "4        97        33        22         0  "
      ]
     },
     "execution_count": 3,
     "metadata": {},
     "output_type": "execute_result"
    }
   ],
   "source": [
    "data = pd.read_csv('model_data.csv')\n",
    "data.head()"
   ]
  },
  {
   "cell_type": "code",
   "execution_count": 4,
   "metadata": {},
   "outputs": [
    {
     "name": "stdout",
     "output_type": "stream",
     "text": [
      "All games: 372\n",
      "Regular season games: 319\n"
     ]
    }
   ],
   "source": [
    "print(\"All games: \" + str(len(data)))\n",
    "print(\"Regular season games: \" + str(len(data[data['PLAYOFFS'] == 0])))"
   ]
  },
  {
   "cell_type": "markdown",
   "metadata": {},
   "source": [
    "While it's commonly accepted that playoff games are different from regular season games, for illustrative purposes, we'll focus the analysis using all the games. There're 372 games where both Jokic and Murray were starters."
   ]
  },
  {
   "cell_type": "code",
   "execution_count": 5,
   "metadata": {},
   "outputs": [
    {
     "data": {
      "text/html": [
       "<div>\n",
       "<style scoped>\n",
       "    .dataframe tbody tr th:only-of-type {\n",
       "        vertical-align: middle;\n",
       "    }\n",
       "\n",
       "    .dataframe tbody tr th {\n",
       "        vertical-align: top;\n",
       "    }\n",
       "\n",
       "    .dataframe thead th {\n",
       "        text-align: right;\n",
       "    }\n",
       "</style>\n",
       "<table border=\"1\" class=\"dataframe\">\n",
       "  <thead>\n",
       "    <tr style=\"text-align: right;\">\n",
       "      <th></th>\n",
       "      <th>JOKIC_PTS</th>\n",
       "      <th>JOKIC_REB</th>\n",
       "      <th>JOKIC_AST</th>\n",
       "      <th>MURRAY_PTS</th>\n",
       "      <th>MURRAY_REB</th>\n",
       "      <th>MURRAY_AST</th>\n",
       "      <th>REST_PTS</th>\n",
       "      <th>REST_REB</th>\n",
       "      <th>REST_AST</th>\n",
       "    </tr>\n",
       "  </thead>\n",
       "  <tbody>\n",
       "    <tr>\n",
       "      <th>0</th>\n",
       "      <td>8</td>\n",
       "      <td>3</td>\n",
       "      <td>5</td>\n",
       "      <td>0</td>\n",
       "      <td>3</td>\n",
       "      <td>4</td>\n",
       "      <td>94</td>\n",
       "      <td>38</td>\n",
       "      <td>15</td>\n",
       "    </tr>\n",
       "    <tr>\n",
       "      <th>1</th>\n",
       "      <td>6</td>\n",
       "      <td>6</td>\n",
       "      <td>0</td>\n",
       "      <td>9</td>\n",
       "      <td>1</td>\n",
       "      <td>2</td>\n",
       "      <td>71</td>\n",
       "      <td>41</td>\n",
       "      <td>13</td>\n",
       "    </tr>\n",
       "  </tbody>\n",
       "</table>\n",
       "</div>"
      ],
      "text/plain": [
       "   JOKIC_PTS  JOKIC_REB  JOKIC_AST  MURRAY_PTS  MURRAY_REB  MURRAY_AST  \\\n",
       "0          8          3          5           0           3           4   \n",
       "1          6          6          0           9           1           2   \n",
       "\n",
       "   REST_PTS  REST_REB  REST_AST  \n",
       "0        94        38        15  \n",
       "1        71        41        13  "
      ]
     },
     "execution_count": 5,
     "metadata": {},
     "output_type": "execute_result"
    }
   ],
   "source": [
    "# We drop the column 'PLAYOFFS'\n",
    "data.drop('PLAYOFFS', axis = 1, inplace = True)\n",
    "\n",
    "# We drop the column 'WIN' from the predictors and use it as the target \n",
    "cols = data.columns.to_list()[1:]\n",
    "X_train = data[cols].copy()\n",
    "y_train = data['WIN'].copy()\n",
    "X_train.head(2)"
   ]
  },
  {
   "cell_type": "code",
   "execution_count": 6,
   "metadata": {},
   "outputs": [
    {
     "data": {
      "text/plain": [
       "0    1\n",
       "1    0\n",
       "Name: WIN, dtype: int64"
      ]
     },
     "execution_count": 6,
     "metadata": {},
     "output_type": "execute_result"
    }
   ],
   "source": [
    "y_train.head(2)"
   ]
  },
  {
   "cell_type": "markdown",
   "metadata": {},
   "source": [
    "## 2. Logistic regression\n",
    "\n",
    "- [Interpret logistic regression coefficients [for beginners]](https://quantifyinghealth.com/interpret-logistic-regression-coefficients/)\n",
    "- [Testing the equality of two regression coefficients](https://andrewpwheeler.com/2016/10/19/testing-the-equality-of-two-regression-coefficients/)\n",
    "- [Logistic regression with scikit-learn](https://solegaonkar.github.io/SktlearnLogisticRegression.html)"
   ]
  },
  {
   "cell_type": "markdown",
   "metadata": {},
   "source": [
    "### 2.1. Unstandardized coefficients\n",
    "\n",
    "Assessing the relative importance of predictors (e.g., Jokic's assists vs. Murray's points) by comparing their unstandardized coefficients is inadequate. Unstandardized coefficients are used to interpret the effect of an individual predictor on the dependent variable, not to compare the effects of several predictors on the dependent variable.\n",
    "\n",
    "Nonetheless, I provide the analysis for the sake of completeness and as a learning exercise."
   ]
  },
  {
   "cell_type": "markdown",
   "metadata": {},
   "source": [
    "#### 2.1.1. Using `statsmodels`"
   ]
  },
  {
   "cell_type": "code",
   "execution_count": 7,
   "metadata": {},
   "outputs": [
    {
     "name": "stdout",
     "output_type": "stream",
     "text": [
      "Optimization terminated successfully.\n",
      "         Current function value: 0.500212\n",
      "         Iterations 6\n",
      "                           Logit Regression Results                           \n",
      "==============================================================================\n",
      "Dep. Variable:                    WIN   No. Observations:                  372\n",
      "Model:                          Logit   Df Residuals:                      362\n",
      "Method:                           MLE   Df Model:                            9\n",
      "Date:                Thu, 24 Aug 2023   Pseudo R-squ.:                  0.2381\n",
      "Time:                        18:16:30   Log-Likelihood:                -186.08\n",
      "converged:                       True   LL-Null:                       -244.24\n",
      "Covariance Type:            nonrobust   LLR p-value:                 7.529e-21\n",
      "==============================================================================\n",
      "                 coef    std err          z      P>|z|      [0.025      0.975]\n",
      "------------------------------------------------------------------------------\n",
      "JOKIC_PTS      0.0444      0.020      2.249      0.024       0.006       0.083\n",
      "JOKIC_REB      0.1865      0.039      4.742      0.000       0.109       0.264\n",
      "JOKIC_AST      0.1087      0.047      2.304      0.021       0.016       0.201\n",
      "MURRAY_PTS     0.0864      0.020      4.323      0.000       0.047       0.126\n",
      "MURRAY_REB     0.0758      0.064      1.187      0.235      -0.049       0.201\n",
      "MURRAY_AST     0.1276      0.060      2.132      0.033       0.010       0.245\n",
      "REST_PTS       0.0691      0.017      4.180      0.000       0.037       0.101\n",
      "REST_REB       0.1092      0.025      4.426      0.000       0.061       0.158\n",
      "REST_AST       0.0583      0.043      1.366      0.172      -0.025       0.142\n",
      "Intercept    -14.5710      1.901     -7.666      0.000     -18.296     -10.846\n",
      "==============================================================================\n"
     ]
    }
   ],
   "source": [
    "X_train['Intercept'] = 1\n",
    "log_reg = sm.Logit(y_train,  X_train).fit()\n",
    "print(log_reg.summary())"
   ]
  },
  {
   "cell_type": "markdown",
   "metadata": {},
   "source": [
    "According to the results, a 1-AST increase by Jokic increases the odds of winning by 11.48%, while a 1-PTS increase by Murray increases the odds of winning by 9.02%.\n",
    "\n",
    "$e^{\\beta_{JOKIC\\_AST}} = e^{0.1087} = 1.11483$\n",
    "\n",
    "$e^{\\beta_{MURRAY\\_PTS}} = e^{0.0864} = 1.09024$\n",
    "\n",
    "We can also compare the coefficients using the output from the variance-covariance matrix. The diagonal from the variance-covariance matrix corresponds to the variances of each estimate. If we take their square roots, we'd get the standard errors reported in the regression output."
   ]
  },
  {
   "cell_type": "code",
   "execution_count": 8,
   "metadata": {},
   "outputs": [
    {
     "data": {
      "text/html": [
       "<div>\n",
       "<style scoped>\n",
       "    .dataframe tbody tr th:only-of-type {\n",
       "        vertical-align: middle;\n",
       "    }\n",
       "\n",
       "    .dataframe tbody tr th {\n",
       "        vertical-align: top;\n",
       "    }\n",
       "\n",
       "    .dataframe thead th {\n",
       "        text-align: right;\n",
       "    }\n",
       "</style>\n",
       "<table border=\"1\" class=\"dataframe\">\n",
       "  <thead>\n",
       "    <tr style=\"text-align: right;\">\n",
       "      <th></th>\n",
       "      <th>JOKIC_PTS</th>\n",
       "      <th>JOKIC_REB</th>\n",
       "      <th>JOKIC_AST</th>\n",
       "      <th>MURRAY_PTS</th>\n",
       "      <th>MURRAY_REB</th>\n",
       "      <th>MURRAY_AST</th>\n",
       "      <th>REST_PTS</th>\n",
       "      <th>REST_REB</th>\n",
       "      <th>REST_AST</th>\n",
       "      <th>Intercept</th>\n",
       "    </tr>\n",
       "  </thead>\n",
       "  <tbody>\n",
       "    <tr>\n",
       "      <th>JOKIC_PTS</th>\n",
       "      <td>0.000389</td>\n",
       "      <td>-0.000059</td>\n",
       "      <td>-0.000175</td>\n",
       "      <td>0.000128</td>\n",
       "      <td>0.000021</td>\n",
       "      <td>-0.000423</td>\n",
       "      <td>0.000183</td>\n",
       "      <td>0.000068</td>\n",
       "      <td>-0.000148</td>\n",
       "      <td>-0.019671</td>\n",
       "    </tr>\n",
       "    <tr>\n",
       "      <th>JOKIC_REB</th>\n",
       "      <td>-0.000059</td>\n",
       "      <td>0.001547</td>\n",
       "      <td>-0.000199</td>\n",
       "      <td>0.000085</td>\n",
       "      <td>0.000135</td>\n",
       "      <td>0.000355</td>\n",
       "      <td>0.000084</td>\n",
       "      <td>0.000185</td>\n",
       "      <td>0.000234</td>\n",
       "      <td>-0.031637</td>\n",
       "    </tr>\n",
       "    <tr>\n",
       "      <th>JOKIC_AST</th>\n",
       "      <td>-0.000175</td>\n",
       "      <td>-0.000199</td>\n",
       "      <td>0.002228</td>\n",
       "      <td>-0.000286</td>\n",
       "      <td>-0.000011</td>\n",
       "      <td>0.000455</td>\n",
       "      <td>-0.000275</td>\n",
       "      <td>0.000172</td>\n",
       "      <td>0.000672</td>\n",
       "      <td>-0.002017</td>\n",
       "    </tr>\n",
       "    <tr>\n",
       "      <th>MURRAY_PTS</th>\n",
       "      <td>0.000128</td>\n",
       "      <td>0.000085</td>\n",
       "      <td>-0.000286</td>\n",
       "      <td>0.000399</td>\n",
       "      <td>-0.000231</td>\n",
       "      <td>-0.000222</td>\n",
       "      <td>0.000172</td>\n",
       "      <td>0.000107</td>\n",
       "      <td>-0.000112</td>\n",
       "      <td>-0.020560</td>\n",
       "    </tr>\n",
       "    <tr>\n",
       "      <th>MURRAY_REB</th>\n",
       "      <td>0.000021</td>\n",
       "      <td>0.000135</td>\n",
       "      <td>-0.000011</td>\n",
       "      <td>-0.000231</td>\n",
       "      <td>0.004080</td>\n",
       "      <td>-0.000247</td>\n",
       "      <td>0.000155</td>\n",
       "      <td>0.000037</td>\n",
       "      <td>-0.000138</td>\n",
       "      <td>-0.022517</td>\n",
       "    </tr>\n",
       "    <tr>\n",
       "      <th>MURRAY_AST</th>\n",
       "      <td>-0.000423</td>\n",
       "      <td>0.000355</td>\n",
       "      <td>0.000455</td>\n",
       "      <td>-0.000222</td>\n",
       "      <td>-0.000247</td>\n",
       "      <td>0.003584</td>\n",
       "      <td>-0.000190</td>\n",
       "      <td>0.000194</td>\n",
       "      <td>0.000756</td>\n",
       "      <td>-0.012774</td>\n",
       "    </tr>\n",
       "    <tr>\n",
       "      <th>REST_PTS</th>\n",
       "      <td>0.000183</td>\n",
       "      <td>0.000084</td>\n",
       "      <td>-0.000275</td>\n",
       "      <td>0.000172</td>\n",
       "      <td>0.000155</td>\n",
       "      <td>-0.000190</td>\n",
       "      <td>0.000273</td>\n",
       "      <td>0.000008</td>\n",
       "      <td>-0.000337</td>\n",
       "      <td>-0.020275</td>\n",
       "    </tr>\n",
       "    <tr>\n",
       "      <th>REST_REB</th>\n",
       "      <td>0.000068</td>\n",
       "      <td>0.000185</td>\n",
       "      <td>0.000172</td>\n",
       "      <td>0.000107</td>\n",
       "      <td>0.000037</td>\n",
       "      <td>0.000194</td>\n",
       "      <td>0.000008</td>\n",
       "      <td>0.000608</td>\n",
       "      <td>0.000049</td>\n",
       "      <td>-0.026521</td>\n",
       "    </tr>\n",
       "    <tr>\n",
       "      <th>REST_AST</th>\n",
       "      <td>-0.000148</td>\n",
       "      <td>0.000234</td>\n",
       "      <td>0.000672</td>\n",
       "      <td>-0.000112</td>\n",
       "      <td>-0.000138</td>\n",
       "      <td>0.000756</td>\n",
       "      <td>-0.000337</td>\n",
       "      <td>0.000049</td>\n",
       "      <td>0.001823</td>\n",
       "      <td>-0.008510</td>\n",
       "    </tr>\n",
       "    <tr>\n",
       "      <th>Intercept</th>\n",
       "      <td>-0.019671</td>\n",
       "      <td>-0.031637</td>\n",
       "      <td>-0.002017</td>\n",
       "      <td>-0.020560</td>\n",
       "      <td>-0.022517</td>\n",
       "      <td>-0.012774</td>\n",
       "      <td>-0.020275</td>\n",
       "      <td>-0.026521</td>\n",
       "      <td>-0.008510</td>\n",
       "      <td>3.612469</td>\n",
       "    </tr>\n",
       "  </tbody>\n",
       "</table>\n",
       "</div>"
      ],
      "text/plain": [
       "            JOKIC_PTS  JOKIC_REB  JOKIC_AST  MURRAY_PTS  MURRAY_REB  \\\n",
       "JOKIC_PTS    0.000389  -0.000059  -0.000175    0.000128    0.000021   \n",
       "JOKIC_REB   -0.000059   0.001547  -0.000199    0.000085    0.000135   \n",
       "JOKIC_AST   -0.000175  -0.000199   0.002228   -0.000286   -0.000011   \n",
       "MURRAY_PTS   0.000128   0.000085  -0.000286    0.000399   -0.000231   \n",
       "MURRAY_REB   0.000021   0.000135  -0.000011   -0.000231    0.004080   \n",
       "MURRAY_AST  -0.000423   0.000355   0.000455   -0.000222   -0.000247   \n",
       "REST_PTS     0.000183   0.000084  -0.000275    0.000172    0.000155   \n",
       "REST_REB     0.000068   0.000185   0.000172    0.000107    0.000037   \n",
       "REST_AST    -0.000148   0.000234   0.000672   -0.000112   -0.000138   \n",
       "Intercept   -0.019671  -0.031637  -0.002017   -0.020560   -0.022517   \n",
       "\n",
       "            MURRAY_AST  REST_PTS  REST_REB  REST_AST  Intercept  \n",
       "JOKIC_PTS    -0.000423  0.000183  0.000068 -0.000148  -0.019671  \n",
       "JOKIC_REB     0.000355  0.000084  0.000185  0.000234  -0.031637  \n",
       "JOKIC_AST     0.000455 -0.000275  0.000172  0.000672  -0.002017  \n",
       "MURRAY_PTS   -0.000222  0.000172  0.000107 -0.000112  -0.020560  \n",
       "MURRAY_REB   -0.000247  0.000155  0.000037 -0.000138  -0.022517  \n",
       "MURRAY_AST    0.003584 -0.000190  0.000194  0.000756  -0.012774  \n",
       "REST_PTS     -0.000190  0.000273  0.000008 -0.000337  -0.020275  \n",
       "REST_REB      0.000194  0.000008  0.000608  0.000049  -0.026521  \n",
       "REST_AST      0.000756 -0.000337  0.000049  0.001823  -0.008510  \n",
       "Intercept    -0.012774 -0.020275 -0.026521 -0.008510   3.612469  "
      ]
     },
     "execution_count": 8,
     "metadata": {},
     "output_type": "execute_result"
    }
   ],
   "source": [
    "log_reg.cov_params()"
   ]
  },
  {
   "cell_type": "markdown",
   "metadata": {},
   "source": [
    "$d = \\beta_{JOKIC\\_AST} - \\beta_{MURRAY\\_PTS}$\n",
    "\n",
    "$d = 0.1087 - 0.0864 = 0.0223$\n",
    "\n",
    "$SE(d) = \\sqrt{VAR(\\beta_{JOKIC\\_AST}) + VAR(\\beta_{MURRAY\\_PTS}) - 2 \\times COV(\\beta_{JOKIC\\_AST}, \\beta_{MURRAY\\_PTS})}$\n",
    "\n",
    "$SE(d) = \\sqrt{0.002228 + 0.000399 - 2 \\times (-0.000286)} = 0.0566$\n",
    "\n",
    "$z = {d \\over SE(d)}$\n",
    "\n",
    "$z = {0.0223 \\over 0.0566} = 0.39$\n",
    "\n",
    "When comparing these coefficients, there's no a significant difference between them ($z = 0.39$, $p = 0.69$)."
   ]
  },
  {
   "cell_type": "markdown",
   "metadata": {},
   "source": [
    "#### 2.1.2. Using `scikit-learn`\n",
    "\n",
    "There's no need to include the intercept since `scikit-learn` does it by default. $L2$ regularization and $C = 1$ are also default.\n",
    "\n",
    "Note that the coefficients are virtually the same compared to the ones obtained with `statsmodels`."
   ]
  },
  {
   "cell_type": "code",
   "execution_count": 9,
   "metadata": {},
   "outputs": [
    {
     "name": "stdout",
     "output_type": "stream",
     "text": [
      "[[0.04442388 0.18615798 0.10845817 0.08637621 0.07554491 0.12705135\n",
      "  0.06906425 0.10902042 0.05802761]]\n",
      "[-14.55456822]\n"
     ]
    }
   ],
   "source": [
    "log_reg_sl = LogisticRegression(max_iter = 200)\n",
    "log_reg_sl.fit(X_train[cols], y_train)\n",
    "print(log_reg_sl.coef_)\n",
    "print(log_reg_sl.intercept_)"
   ]
  },
  {
   "cell_type": "markdown",
   "metadata": {},
   "source": [
    "##### Regularization"
   ]
  },
  {
   "cell_type": "markdown",
   "metadata": {},
   "source": [
    "No regularization\n",
    "\n",
    "```python\n",
    "log_reg_sl = LogisticRegression(max_iter = 200, penalty = None)\n",
    "log_reg_sl.fit(X_train[cols], y_train)\n",
    "print(log_reg_sl.coef_)\n",
    "print(log_reg_sl.intercept_)\n",
    "```\n",
    "\n",
    "Change the parameter $C$ to play with the $L2$ regularization strength: the lower the $C$, the stronger the regularization. Try $C = 0.01$, $0.1$, $10$ and $100$.\n",
    "\n",
    "```python\n",
    "log_reg_sl = LogisticRegression(max_iter = 200, C = 0.01)\n",
    "log_reg_sl.fit(X_train[cols], y_train)\n",
    "print(log_reg_sl.coef_)\n",
    "print(log_reg_sl.intercept_)\n",
    "```"
   ]
  },
  {
   "cell_type": "markdown",
   "metadata": {},
   "source": [
    "### 2.2. Standardized coefficients"
   ]
  },
  {
   "cell_type": "markdown",
   "metadata": {},
   "source": [
    "By standardizing the predictors, their effects on the dependent variable become comparable, making possible to assess their relative importance. However, this approach can be misleading since differences in standardized coefficients could arise due to differences in their standard deviations.\n",
    "\n",
    "Let's take a look at Jokic's AST and Murray's PTS descriptive stats."
   ]
  },
  {
   "cell_type": "code",
   "execution_count": 10,
   "metadata": {},
   "outputs": [
    {
     "data": {
      "text/html": [
       "<div>\n",
       "<style scoped>\n",
       "    .dataframe tbody tr th:only-of-type {\n",
       "        vertical-align: middle;\n",
       "    }\n",
       "\n",
       "    .dataframe tbody tr th {\n",
       "        vertical-align: top;\n",
       "    }\n",
       "\n",
       "    .dataframe thead th {\n",
       "        text-align: right;\n",
       "    }\n",
       "</style>\n",
       "<table border=\"1\" class=\"dataframe\">\n",
       "  <thead>\n",
       "    <tr style=\"text-align: right;\">\n",
       "      <th></th>\n",
       "      <th>JOKIC_PTS</th>\n",
       "      <th>JOKIC_REB</th>\n",
       "      <th>JOKIC_AST</th>\n",
       "      <th>MURRAY_PTS</th>\n",
       "      <th>MURRAY_REB</th>\n",
       "      <th>MURRAY_AST</th>\n",
       "      <th>REST_PTS</th>\n",
       "      <th>REST_REB</th>\n",
       "      <th>REST_AST</th>\n",
       "    </tr>\n",
       "  </thead>\n",
       "  <tbody>\n",
       "    <tr>\n",
       "      <th>count</th>\n",
       "      <td>372.000000</td>\n",
       "      <td>372.000000</td>\n",
       "      <td>372.000000</td>\n",
       "      <td>372.000000</td>\n",
       "      <td>372.000000</td>\n",
       "      <td>372.000000</td>\n",
       "      <td>372.000000</td>\n",
       "      <td>372.000000</td>\n",
       "      <td>372.000000</td>\n",
       "    </tr>\n",
       "    <tr>\n",
       "      <th>mean</th>\n",
       "      <td>21.887097</td>\n",
       "      <td>10.956989</td>\n",
       "      <td>7.537634</td>\n",
       "      <td>19.432796</td>\n",
       "      <td>4.072581</td>\n",
       "      <td>4.951613</td>\n",
       "      <td>70.677419</td>\n",
       "      <td>29.395161</td>\n",
       "      <td>14.112903</td>\n",
       "    </tr>\n",
       "    <tr>\n",
       "      <th>std</th>\n",
       "      <td>8.964629</td>\n",
       "      <td>3.949585</td>\n",
       "      <td>3.386382</td>\n",
       "      <td>8.908235</td>\n",
       "      <td>2.173747</td>\n",
       "      <td>2.572469</td>\n",
       "      <td>14.148356</td>\n",
       "      <td>6.140079</td>\n",
       "      <td>4.270900</td>\n",
       "    </tr>\n",
       "    <tr>\n",
       "      <th>min</th>\n",
       "      <td>0.000000</td>\n",
       "      <td>1.000000</td>\n",
       "      <td>0.000000</td>\n",
       "      <td>0.000000</td>\n",
       "      <td>0.000000</td>\n",
       "      <td>0.000000</td>\n",
       "      <td>31.000000</td>\n",
       "      <td>14.000000</td>\n",
       "      <td>4.000000</td>\n",
       "    </tr>\n",
       "    <tr>\n",
       "      <th>25%</th>\n",
       "      <td>16.000000</td>\n",
       "      <td>8.000000</td>\n",
       "      <td>5.000000</td>\n",
       "      <td>14.000000</td>\n",
       "      <td>2.000000</td>\n",
       "      <td>3.000000</td>\n",
       "      <td>61.000000</td>\n",
       "      <td>25.000000</td>\n",
       "      <td>11.000000</td>\n",
       "    </tr>\n",
       "    <tr>\n",
       "      <th>50%</th>\n",
       "      <td>22.000000</td>\n",
       "      <td>11.000000</td>\n",
       "      <td>7.000000</td>\n",
       "      <td>19.000000</td>\n",
       "      <td>4.000000</td>\n",
       "      <td>5.000000</td>\n",
       "      <td>70.000000</td>\n",
       "      <td>29.000000</td>\n",
       "      <td>14.000000</td>\n",
       "    </tr>\n",
       "    <tr>\n",
       "      <th>75%</th>\n",
       "      <td>28.000000</td>\n",
       "      <td>13.000000</td>\n",
       "      <td>10.000000</td>\n",
       "      <td>24.000000</td>\n",
       "      <td>5.000000</td>\n",
       "      <td>6.250000</td>\n",
       "      <td>81.000000</td>\n",
       "      <td>33.000000</td>\n",
       "      <td>17.000000</td>\n",
       "    </tr>\n",
       "    <tr>\n",
       "      <th>max</th>\n",
       "      <td>53.000000</td>\n",
       "      <td>27.000000</td>\n",
       "      <td>18.000000</td>\n",
       "      <td>50.000000</td>\n",
       "      <td>12.000000</td>\n",
       "      <td>15.000000</td>\n",
       "      <td>113.000000</td>\n",
       "      <td>50.000000</td>\n",
       "      <td>32.000000</td>\n",
       "    </tr>\n",
       "  </tbody>\n",
       "</table>\n",
       "</div>"
      ],
      "text/plain": [
       "        JOKIC_PTS   JOKIC_REB   JOKIC_AST  MURRAY_PTS  MURRAY_REB  MURRAY_AST  \\\n",
       "count  372.000000  372.000000  372.000000  372.000000  372.000000  372.000000   \n",
       "mean    21.887097   10.956989    7.537634   19.432796    4.072581    4.951613   \n",
       "std      8.964629    3.949585    3.386382    8.908235    2.173747    2.572469   \n",
       "min      0.000000    1.000000    0.000000    0.000000    0.000000    0.000000   \n",
       "25%     16.000000    8.000000    5.000000   14.000000    2.000000    3.000000   \n",
       "50%     22.000000   11.000000    7.000000   19.000000    4.000000    5.000000   \n",
       "75%     28.000000   13.000000   10.000000   24.000000    5.000000    6.250000   \n",
       "max     53.000000   27.000000   18.000000   50.000000   12.000000   15.000000   \n",
       "\n",
       "         REST_PTS    REST_REB    REST_AST  \n",
       "count  372.000000  372.000000  372.000000  \n",
       "mean    70.677419   29.395161   14.112903  \n",
       "std     14.148356    6.140079    4.270900  \n",
       "min     31.000000   14.000000    4.000000  \n",
       "25%     61.000000   25.000000   11.000000  \n",
       "50%     70.000000   29.000000   14.000000  \n",
       "75%     81.000000   33.000000   17.000000  \n",
       "max    113.000000   50.000000   32.000000  "
      ]
     },
     "execution_count": 10,
     "metadata": {},
     "output_type": "execute_result"
    }
   ],
   "source": [
    "X_train[cols].describe()"
   ]
  },
  {
   "cell_type": "markdown",
   "metadata": {},
   "source": [
    "The descriptive stats show different standard deviations for Jokic's AST and Murray's PTS. An $F$-test of equal variances (reported below) shows there's a significant difference between both variances. Thus, interpreting their standardized coefficients could lead to misleading conclusions.\n",
    "\n",
    "Nonetheless, I provide the analysis for the sake of completeness and as a learning exercise.\n",
    "\n",
    "- [How to perform an F-test in Python](https://www.tutorialspoint.com/how-to-perform-an-f-test-in-python)"
   ]
  },
  {
   "cell_type": "code",
   "execution_count": 11,
   "metadata": {},
   "outputs": [
    {
     "name": "stdout",
     "output_type": "stream",
     "text": [
      "F\n",
      "6.9200860068845955\n",
      "p-value\n",
      "1.1102230246251565e-16\n"
     ]
    }
   ],
   "source": [
    "f = np.var(X_train['MURRAY_PTS'], ddof = 1)/np.var(X_train['JOKIC_AST'], ddof = 1)\n",
    "dfmp = len(X_train['MURRAY_PTS'])\n",
    "dfja = len(X_train['JOKIC_AST'])\n",
    "p_value = 1 - scipy.stats.f.cdf(f, dfmp, dfja)\n",
    "print(\"F\")\n",
    "print(f)\n",
    "print(\"p-value\")\n",
    "print(p_value)"
   ]
  },
  {
   "cell_type": "markdown",
   "metadata": {},
   "source": [
    "Let's standardize the variables and fit the model."
   ]
  },
  {
   "cell_type": "code",
   "execution_count": 12,
   "metadata": {},
   "outputs": [
    {
     "name": "stdout",
     "output_type": "stream",
     "text": [
      "Optimization terminated successfully.\n",
      "         Current function value: 0.500212\n",
      "         Iterations 6\n",
      "                           Logit Regression Results                           \n",
      "==============================================================================\n",
      "Dep. Variable:                    WIN   No. Observations:                  372\n",
      "Model:                          Logit   Df Residuals:                      362\n",
      "Method:                           MLE   Df Model:                            9\n",
      "Date:                Thu, 24 Aug 2023   Pseudo R-squ.:                  0.2381\n",
      "Time:                        18:16:30   Log-Likelihood:                -186.08\n",
      "converged:                       True   LL-Null:                       -244.24\n",
      "Covariance Type:            nonrobust   LLR p-value:                 7.529e-21\n",
      "==============================================================================\n",
      "                 coef    std err          z      P>|z|      [0.025      0.975]\n",
      "------------------------------------------------------------------------------\n",
      "JOKIC_PTS      0.3973      0.177      2.249      0.024       0.051       0.743\n",
      "JOKIC_REB      0.7357      0.155      4.742      0.000       0.432       1.040\n",
      "JOKIC_AST      0.3677      0.160      2.304      0.021       0.055       0.681\n",
      "MURRAY_PTS     0.7684      0.178      4.323      0.000       0.420       1.117\n",
      "MURRAY_REB     0.1646      0.139      1.187      0.235      -0.107       0.436\n",
      "MURRAY_AST     0.3278      0.154      2.132      0.033       0.026       0.629\n",
      "REST_PTS       0.9757      0.233      4.180      0.000       0.518       1.433\n",
      "REST_REB       0.6695      0.151      4.426      0.000       0.373       0.966\n",
      "REST_AST       0.2487      0.182      1.366      0.172      -0.108       0.606\n",
      "Intercept      0.7957      0.136      5.852      0.000       0.529       1.062\n",
      "==============================================================================\n"
     ]
    }
   ],
   "source": [
    "scaler_s = StandardScaler()\n",
    "X_train1 = pd.DataFrame(scaler_s.fit_transform(data[cols]), columns = cols)\n",
    "X_train1['Intercept'] = 1\n",
    "log_reg1 = sm.Logit(y_train,  X_train1).fit()\n",
    "print(log_reg1.summary())"
   ]
  },
  {
   "cell_type": "markdown",
   "metadata": {},
   "source": [
    "According to the results, an increase of 1 standard deviation in Jokic's AST increases the odds of winning by 44.44%, while an increase of 1 standard deviation in Murray's PTS increases the odds of winning by 115.63%.\n",
    "\n",
    "$e^{\\beta_{JOKIC\\_AST}} = e^{0.3677} = 1.44441$\n",
    "\n",
    "$e^{\\beta_{MURRAY\\_PTS}} = e^{0.7684} = 2.15631$"
   ]
  },
  {
   "cell_type": "code",
   "execution_count": 13,
   "metadata": {},
   "outputs": [
    {
     "data": {
      "text/html": [
       "<div>\n",
       "<style scoped>\n",
       "    .dataframe tbody tr th:only-of-type {\n",
       "        vertical-align: middle;\n",
       "    }\n",
       "\n",
       "    .dataframe tbody tr th {\n",
       "        vertical-align: top;\n",
       "    }\n",
       "\n",
       "    .dataframe thead th {\n",
       "        text-align: right;\n",
       "    }\n",
       "</style>\n",
       "<table border=\"1\" class=\"dataframe\">\n",
       "  <thead>\n",
       "    <tr style=\"text-align: right;\">\n",
       "      <th></th>\n",
       "      <th>JOKIC_PTS</th>\n",
       "      <th>JOKIC_REB</th>\n",
       "      <th>JOKIC_AST</th>\n",
       "      <th>MURRAY_PTS</th>\n",
       "      <th>MURRAY_REB</th>\n",
       "      <th>MURRAY_AST</th>\n",
       "      <th>REST_PTS</th>\n",
       "      <th>REST_REB</th>\n",
       "      <th>REST_AST</th>\n",
       "      <th>Intercept</th>\n",
       "    </tr>\n",
       "  </thead>\n",
       "  <tbody>\n",
       "    <tr>\n",
       "      <th>JOKIC_PTS</th>\n",
       "      <td>0.031194</td>\n",
       "      <td>-0.002092</td>\n",
       "      <td>-0.005297</td>\n",
       "      <td>0.010190</td>\n",
       "      <td>0.000408</td>\n",
       "      <td>-0.009721</td>\n",
       "      <td>0.023154</td>\n",
       "      <td>0.003751</td>\n",
       "      <td>-0.005660</td>\n",
       "      <td>0.001902</td>\n",
       "    </tr>\n",
       "    <tr>\n",
       "      <th>JOKIC_REB</th>\n",
       "      <td>-0.002092</td>\n",
       "      <td>0.024066</td>\n",
       "      <td>-0.002654</td>\n",
       "      <td>0.002988</td>\n",
       "      <td>0.001156</td>\n",
       "      <td>0.003596</td>\n",
       "      <td>0.004656</td>\n",
       "      <td>0.004469</td>\n",
       "      <td>0.003936</td>\n",
       "      <td>0.004404</td>\n",
       "    </tr>\n",
       "    <tr>\n",
       "      <th>JOKIC_AST</th>\n",
       "      <td>-0.005297</td>\n",
       "      <td>-0.002654</td>\n",
       "      <td>0.025480</td>\n",
       "      <td>-0.008600</td>\n",
       "      <td>-0.000079</td>\n",
       "      <td>0.003952</td>\n",
       "      <td>-0.013131</td>\n",
       "      <td>0.003574</td>\n",
       "      <td>0.009689</td>\n",
       "      <td>0.001842</td>\n",
       "    </tr>\n",
       "    <tr>\n",
       "      <th>MURRAY_PTS</th>\n",
       "      <td>0.010190</td>\n",
       "      <td>0.002988</td>\n",
       "      <td>-0.008600</td>\n",
       "      <td>0.031593</td>\n",
       "      <td>-0.004467</td>\n",
       "      <td>-0.005063</td>\n",
       "      <td>0.021646</td>\n",
       "      <td>0.005818</td>\n",
       "      <td>-0.004235</td>\n",
       "      <td>0.004166</td>\n",
       "    </tr>\n",
       "    <tr>\n",
       "      <th>MURRAY_REB</th>\n",
       "      <td>0.000408</td>\n",
       "      <td>0.001156</td>\n",
       "      <td>-0.000079</td>\n",
       "      <td>-0.004467</td>\n",
       "      <td>0.019227</td>\n",
       "      <td>-0.001375</td>\n",
       "      <td>0.004751</td>\n",
       "      <td>0.000490</td>\n",
       "      <td>-0.001277</td>\n",
       "      <td>0.000701</td>\n",
       "    </tr>\n",
       "    <tr>\n",
       "      <th>MURRAY_AST</th>\n",
       "      <td>-0.009721</td>\n",
       "      <td>0.003596</td>\n",
       "      <td>0.003952</td>\n",
       "      <td>-0.005063</td>\n",
       "      <td>-0.001375</td>\n",
       "      <td>0.023652</td>\n",
       "      <td>-0.006879</td>\n",
       "      <td>0.003050</td>\n",
       "      <td>0.008282</td>\n",
       "      <td>0.001780</td>\n",
       "    </tr>\n",
       "    <tr>\n",
       "      <th>REST_PTS</th>\n",
       "      <td>0.023154</td>\n",
       "      <td>0.004656</td>\n",
       "      <td>-0.013131</td>\n",
       "      <td>0.021646</td>\n",
       "      <td>0.004751</td>\n",
       "      <td>-0.006879</td>\n",
       "      <td>0.054498</td>\n",
       "      <td>0.000713</td>\n",
       "      <td>-0.020289</td>\n",
       "      <td>0.005641</td>\n",
       "    </tr>\n",
       "    <tr>\n",
       "      <th>REST_REB</th>\n",
       "      <td>0.003751</td>\n",
       "      <td>0.004469</td>\n",
       "      <td>0.003574</td>\n",
       "      <td>0.005818</td>\n",
       "      <td>0.000490</td>\n",
       "      <td>0.003050</td>\n",
       "      <td>0.000713</td>\n",
       "      <td>0.022878</td>\n",
       "      <td>0.001283</td>\n",
       "      <td>0.003921</td>\n",
       "    </tr>\n",
       "    <tr>\n",
       "      <th>REST_AST</th>\n",
       "      <td>-0.005660</td>\n",
       "      <td>0.003936</td>\n",
       "      <td>0.009689</td>\n",
       "      <td>-0.004235</td>\n",
       "      <td>-0.001277</td>\n",
       "      <td>0.008282</td>\n",
       "      <td>-0.020289</td>\n",
       "      <td>0.001283</td>\n",
       "      <td>0.033165</td>\n",
       "      <td>0.001114</td>\n",
       "    </tr>\n",
       "    <tr>\n",
       "      <th>Intercept</th>\n",
       "      <td>0.001902</td>\n",
       "      <td>0.004404</td>\n",
       "      <td>0.001842</td>\n",
       "      <td>0.004166</td>\n",
       "      <td>0.000701</td>\n",
       "      <td>0.001780</td>\n",
       "      <td>0.005641</td>\n",
       "      <td>0.003921</td>\n",
       "      <td>0.001114</td>\n",
       "      <td>0.018487</td>\n",
       "    </tr>\n",
       "  </tbody>\n",
       "</table>\n",
       "</div>"
      ],
      "text/plain": [
       "            JOKIC_PTS  JOKIC_REB  JOKIC_AST  MURRAY_PTS  MURRAY_REB  \\\n",
       "JOKIC_PTS    0.031194  -0.002092  -0.005297    0.010190    0.000408   \n",
       "JOKIC_REB   -0.002092   0.024066  -0.002654    0.002988    0.001156   \n",
       "JOKIC_AST   -0.005297  -0.002654   0.025480   -0.008600   -0.000079   \n",
       "MURRAY_PTS   0.010190   0.002988  -0.008600    0.031593   -0.004467   \n",
       "MURRAY_REB   0.000408   0.001156  -0.000079   -0.004467    0.019227   \n",
       "MURRAY_AST  -0.009721   0.003596   0.003952   -0.005063   -0.001375   \n",
       "REST_PTS     0.023154   0.004656  -0.013131    0.021646    0.004751   \n",
       "REST_REB     0.003751   0.004469   0.003574    0.005818    0.000490   \n",
       "REST_AST    -0.005660   0.003936   0.009689   -0.004235   -0.001277   \n",
       "Intercept    0.001902   0.004404   0.001842    0.004166    0.000701   \n",
       "\n",
       "            MURRAY_AST  REST_PTS  REST_REB  REST_AST  Intercept  \n",
       "JOKIC_PTS    -0.009721  0.023154  0.003751 -0.005660   0.001902  \n",
       "JOKIC_REB     0.003596  0.004656  0.004469  0.003936   0.004404  \n",
       "JOKIC_AST     0.003952 -0.013131  0.003574  0.009689   0.001842  \n",
       "MURRAY_PTS   -0.005063  0.021646  0.005818 -0.004235   0.004166  \n",
       "MURRAY_REB   -0.001375  0.004751  0.000490 -0.001277   0.000701  \n",
       "MURRAY_AST    0.023652 -0.006879  0.003050  0.008282   0.001780  \n",
       "REST_PTS     -0.006879  0.054498  0.000713 -0.020289   0.005641  \n",
       "REST_REB      0.003050  0.000713  0.022878  0.001283   0.003921  \n",
       "REST_AST      0.008282 -0.020289  0.001283  0.033165   0.001114  \n",
       "Intercept     0.001780  0.005641  0.003921  0.001114   0.018487  "
      ]
     },
     "execution_count": 13,
     "metadata": {},
     "output_type": "execute_result"
    }
   ],
   "source": [
    "log_reg1.cov_params()"
   ]
  },
  {
   "cell_type": "markdown",
   "metadata": {},
   "source": [
    "When comparing these coefficients, there's no a significant difference between them ($z = -1.47$, $p = 0.14$). This is a two-tailed $p$-value. A one-tailed $p$-value indicates the effect of Murray's points is marginally stronger ($p = 0.07$).\n",
    "\n",
    "Let's plot the coefficients with their 95% CI to visually explore the results. We need to extract the info from the summary table. Below I print a different version of the summary table."
   ]
  },
  {
   "cell_type": "code",
   "execution_count": 14,
   "metadata": {},
   "outputs": [
    {
     "name": "stdout",
     "output_type": "stream",
     "text": [
      "                         Results: Logit\n",
      "=================================================================\n",
      "Model:              Logit            Method:           MLE       \n",
      "Dependent Variable: WIN              Pseudo R-squared: 0.238     \n",
      "Date:               2023-08-24 18:16 AIC:              392.1578  \n",
      "No. Observations:   372              BIC:              431.3468  \n",
      "Df Model:           9                Log-Likelihood:   -186.08   \n",
      "Df Residuals:       362              LL-Null:          -244.24   \n",
      "Converged:          1.0000           LLR p-value:      7.5285e-21\n",
      "No. Iterations:     6.0000           Scale:            1.0000    \n",
      "-------------------------------------------------------------------\n",
      "             Coef.    Std.Err.     z      P>|z|     [0.025   0.975]\n",
      "-------------------------------------------------------------------\n",
      "JOKIC_PTS    0.3973     0.1766   2.2494   0.0245    0.0511   0.7435\n",
      "JOKIC_REB    0.7357     0.1551   4.7424   0.0000    0.4316   1.0398\n",
      "JOKIC_AST    0.3677     0.1596   2.3035   0.0212    0.0548   0.6806\n",
      "MURRAY_PTS   0.7684     0.1777   4.3229   0.0000    0.4200   1.1167\n",
      "MURRAY_REB   0.1646     0.1387   1.1871   0.2352   -0.1072   0.4364\n",
      "MURRAY_AST   0.3278     0.1538   2.1318   0.0330    0.0264   0.6293\n",
      "REST_PTS     0.9757     0.2334   4.1796   0.0000    0.5182   1.4333\n",
      "REST_REB     0.6695     0.1513   4.4262   0.0000    0.3730   0.9659\n",
      "REST_AST     0.2487     0.1821   1.3656   0.1721   -0.1082   0.6056\n",
      "Intercept    0.7957     0.1360   5.8523   0.0000    0.5292   1.0622\n",
      "=================================================================\n",
      "\n"
     ]
    }
   ],
   "source": [
    "print(log_reg1.summary2())"
   ]
  },
  {
   "cell_type": "markdown",
   "metadata": {},
   "source": [
    "The coefficients summary can be extracted as shown below."
   ]
  },
  {
   "cell_type": "code",
   "execution_count": 15,
   "metadata": {},
   "outputs": [
    {
     "data": {
      "text/html": [
       "<div>\n",
       "<style scoped>\n",
       "    .dataframe tbody tr th:only-of-type {\n",
       "        vertical-align: middle;\n",
       "    }\n",
       "\n",
       "    .dataframe tbody tr th {\n",
       "        vertical-align: top;\n",
       "    }\n",
       "\n",
       "    .dataframe thead th {\n",
       "        text-align: right;\n",
       "    }\n",
       "</style>\n",
       "<table border=\"1\" class=\"dataframe\">\n",
       "  <thead>\n",
       "    <tr style=\"text-align: right;\">\n",
       "      <th></th>\n",
       "      <th>Coef.</th>\n",
       "      <th>Std.Err.</th>\n",
       "      <th>z</th>\n",
       "      <th>P&gt;|z|</th>\n",
       "      <th>[0.025</th>\n",
       "      <th>0.975]</th>\n",
       "    </tr>\n",
       "  </thead>\n",
       "  <tbody>\n",
       "    <tr>\n",
       "      <th>JOKIC_PTS</th>\n",
       "      <td>0.397291</td>\n",
       "      <td>0.176617</td>\n",
       "      <td>2.249443</td>\n",
       "      <td>2.448434e-02</td>\n",
       "      <td>0.051127</td>\n",
       "      <td>0.743454</td>\n",
       "    </tr>\n",
       "    <tr>\n",
       "      <th>JOKIC_REB</th>\n",
       "      <td>0.735701</td>\n",
       "      <td>0.155131</td>\n",
       "      <td>4.742440</td>\n",
       "      <td>2.111591e-06</td>\n",
       "      <td>0.431649</td>\n",
       "      <td>1.039753</td>\n",
       "    </tr>\n",
       "    <tr>\n",
       "      <th>JOKIC_AST</th>\n",
       "      <td>0.367696</td>\n",
       "      <td>0.159623</td>\n",
       "      <td>2.303528</td>\n",
       "      <td>2.124914e-02</td>\n",
       "      <td>0.054841</td>\n",
       "      <td>0.680552</td>\n",
       "    </tr>\n",
       "    <tr>\n",
       "      <th>MURRAY_PTS</th>\n",
       "      <td>0.768373</td>\n",
       "      <td>0.177743</td>\n",
       "      <td>4.322932</td>\n",
       "      <td>1.539692e-05</td>\n",
       "      <td>0.420002</td>\n",
       "      <td>1.116743</td>\n",
       "    </tr>\n",
       "    <tr>\n",
       "      <th>MURRAY_REB</th>\n",
       "      <td>0.164605</td>\n",
       "      <td>0.138662</td>\n",
       "      <td>1.187092</td>\n",
       "      <td>2.351915e-01</td>\n",
       "      <td>-0.107168</td>\n",
       "      <td>0.436378</td>\n",
       "    </tr>\n",
       "    <tr>\n",
       "      <th>MURRAY_AST</th>\n",
       "      <td>0.327845</td>\n",
       "      <td>0.153791</td>\n",
       "      <td>2.131758</td>\n",
       "      <td>3.302674e-02</td>\n",
       "      <td>0.026420</td>\n",
       "      <td>0.629269</td>\n",
       "    </tr>\n",
       "    <tr>\n",
       "      <th>REST_PTS</th>\n",
       "      <td>0.975713</td>\n",
       "      <td>0.233449</td>\n",
       "      <td>4.179562</td>\n",
       "      <td>2.920716e-05</td>\n",
       "      <td>0.518162</td>\n",
       "      <td>1.433263</td>\n",
       "    </tr>\n",
       "    <tr>\n",
       "      <th>REST_REB</th>\n",
       "      <td>0.669492</td>\n",
       "      <td>0.151256</td>\n",
       "      <td>4.426211</td>\n",
       "      <td>9.590279e-06</td>\n",
       "      <td>0.373035</td>\n",
       "      <td>0.965949</td>\n",
       "    </tr>\n",
       "    <tr>\n",
       "      <th>REST_AST</th>\n",
       "      <td>0.248685</td>\n",
       "      <td>0.182112</td>\n",
       "      <td>1.365559</td>\n",
       "      <td>1.720774e-01</td>\n",
       "      <td>-0.108248</td>\n",
       "      <td>0.605619</td>\n",
       "    </tr>\n",
       "    <tr>\n",
       "      <th>Intercept</th>\n",
       "      <td>0.795726</td>\n",
       "      <td>0.135967</td>\n",
       "      <td>5.852343</td>\n",
       "      <td>4.846967e-09</td>\n",
       "      <td>0.529235</td>\n",
       "      <td>1.062217</td>\n",
       "    </tr>\n",
       "  </tbody>\n",
       "</table>\n",
       "</div>"
      ],
      "text/plain": [
       "               Coef.  Std.Err.         z         P>|z|    [0.025    0.975]\n",
       "JOKIC_PTS   0.397291  0.176617  2.249443  2.448434e-02  0.051127  0.743454\n",
       "JOKIC_REB   0.735701  0.155131  4.742440  2.111591e-06  0.431649  1.039753\n",
       "JOKIC_AST   0.367696  0.159623  2.303528  2.124914e-02  0.054841  0.680552\n",
       "MURRAY_PTS  0.768373  0.177743  4.322932  1.539692e-05  0.420002  1.116743\n",
       "MURRAY_REB  0.164605  0.138662  1.187092  2.351915e-01 -0.107168  0.436378\n",
       "MURRAY_AST  0.327845  0.153791  2.131758  3.302674e-02  0.026420  0.629269\n",
       "REST_PTS    0.975713  0.233449  4.179562  2.920716e-05  0.518162  1.433263\n",
       "REST_REB    0.669492  0.151256  4.426211  9.590279e-06  0.373035  0.965949\n",
       "REST_AST    0.248685  0.182112  1.365559  1.720774e-01 -0.108248  0.605619\n",
       "Intercept   0.795726  0.135967  5.852343  4.846967e-09  0.529235  1.062217"
      ]
     },
     "execution_count": 15,
     "metadata": {},
     "output_type": "execute_result"
    }
   ],
   "source": [
    "log_reg1.summary2().tables[1]"
   ]
  },
  {
   "cell_type": "markdown",
   "metadata": {},
   "source": [
    "Let's plot!"
   ]
  },
  {
   "cell_type": "code",
   "execution_count": 16,
   "metadata": {},
   "outputs": [
    {
     "data": {
      "image/png": "[encoded data removed]",
      "text/plain": [
       "<Figure size 640x480 with 1 Axes>"
      ]
     },
     "metadata": {},
     "output_type": "display_data"
    }
   ],
   "source": [
    "# Extract all coefficients but the Intercept\n",
    "summary = log_reg1.summary2().tables[1].iloc[:-1,:]\n",
    "\n",
    "# Extract the names, the estimates and the values for the error bars\n",
    "coef_names = summary.index\n",
    "coef_estimates = summary['Coef.']\n",
    "coef_error = summary['Coef.'] - summary['[0.025']\n",
    "\n",
    "# Create a bar plot with error bars\n",
    "plt.barh(coef_names, coef_estimates, xerr = coef_error, capsize = 4)\n",
    "plt.xlabel('Value')\n",
    "plt.ylabel('Coefficient')\n",
    "plt.title('Logistic regression coefficients with 95% CI')\n",
    "plt.axvline(x = 0, color = 'black', linewidth = 0.8, linestyle = '--') # Add vertical line at zero\n",
    "plt.tight_layout()\n",
    "plt.show()"
   ]
  },
  {
   "cell_type": "markdown",
   "metadata": {},
   "source": [
    "### 2.3. SHAP values\n",
    "\n",
    "SHAP (SHapley Additive exPlanations) values is a method based on cooperative game theory used to increase the interpretability of ML models. Their essence is to measure the contributions from each player to the final outcome, while preserving the sum of contributions as the final outcome.\n",
    "\n",
    "SHAP values allow us to measure each feature's contribution to an individual prediction. Moreover, by aggregating SHAP values, we can also understand trends across multiple predictions.\n",
    "\n",
    "- [Introduction to SHAP with Python](https://towardsdatascience.com/introduction-to-shap-with-python-d27edc23c454)\n",
    "- [Using SHAP values to explain how your machine learning model works](https://towardsdatascience.com/using-shap-values-to-explain-how-your-machine-learning-model-works-732b3f40e137)\n",
    "- [How to interpret and explain your machine learning models using SHAP values](https://m.mage.ai/how-to-interpret-and-explain-your-machine-learning-models-using-shap-values-471c2635b78e)\n",
    "- [A comprehensive guide into SHAP (SHapley Additive exPlanations) values](https://deepchecks.com/a-comprehensive-guide-into-shap-shapley-additive-explanations-values/)\n",
    "- [Inconsistent usage of 'shap_value' in beeswarm](https://github.com/shap/shap/issues/1460)"
   ]
  },
  {
   "cell_type": "markdown",
   "metadata": {},
   "source": [
    "To the best of my knowledge, SHAP doesn't work with `statsmodels`. Thus, we start by fitting the model using `scikit-learn`."
   ]
  },
  {
   "cell_type": "code",
   "execution_count": 17,
   "metadata": {},
   "outputs": [
    {
     "data": {
      "text/html": [
       "<style>#sk-container-id-1 {color: black;}#sk-container-id-1 pre{padding: 0;}#sk-container-id-1 div.sk-toggleable {background-color: white;}#sk-container-id-1 label.sk-toggleable__label {cursor: pointer;display: block;width: 100%;margin-bottom: 0;padding: 0.3em;box-sizing: border-box;text-align: center;}#sk-container-id-1 label.sk-toggleable__label-arrow:before {content: \"▸\";float: left;margin-right: 0.25em;color: #696969;}#sk-container-id-1 label.sk-toggleable__label-arrow:hover:before {color: black;}#sk-container-id-1 div.sk-estimator:hover label.sk-toggleable__label-arrow:before {color: black;}#sk-container-id-1 div.sk-toggleable__content {max-height: 0;max-width: 0;overflow: hidden;text-align: left;background-color: #f0f8ff;}#sk-container-id-1 div.sk-toggleable__content pre {margin: 0.2em;color: black;border-radius: 0.25em;background-color: #f0f8ff;}#sk-container-id-1 input.sk-toggleable__control:checked~div.sk-toggleable__content {max-height: 200px;max-width: 100%;overflow: auto;}#sk-container-id-1 input.sk-toggleable__control:checked~label.sk-toggleable__label-arrow:before {content: \"▾\";}#sk-container-id-1 div.sk-estimator input.sk-toggleable__control:checked~label.sk-toggleable__label {background-color: #d4ebff;}#sk-container-id-1 div.sk-label input.sk-toggleable__control:checked~label.sk-toggleable__label {background-color: #d4ebff;}#sk-container-id-1 input.sk-hidden--visually {border: 0;clip: rect(1px 1px 1px 1px);clip: rect(1px, 1px, 1px, 1px);height: 1px;margin: -1px;overflow: hidden;padding: 0;position: absolute;width: 1px;}#sk-container-id-1 div.sk-estimator {font-family: monospace;background-color: #f0f8ff;border: 1px dotted black;border-radius: 0.25em;box-sizing: border-box;margin-bottom: 0.5em;}#sk-container-id-1 div.sk-estimator:hover {background-color: #d4ebff;}#sk-container-id-1 div.sk-parallel-item::after {content: \"\";width: 100%;border-bottom: 1px solid gray;flex-grow: 1;}#sk-container-id-1 div.sk-label:hover label.sk-toggleable__label {background-color: #d4ebff;}#sk-container-id-1 div.sk-serial::before {content: \"\";position: absolute;border-left: 1px solid gray;box-sizing: border-box;top: 0;bottom: 0;left: 50%;z-index: 0;}#sk-container-id-1 div.sk-serial {display: flex;flex-direction: column;align-items: center;background-color: white;padding-right: 0.2em;padding-left: 0.2em;position: relative;}#sk-container-id-1 div.sk-item {position: relative;z-index: 1;}#sk-container-id-1 div.sk-parallel {display: flex;align-items: stretch;justify-content: center;background-color: white;position: relative;}#sk-container-id-1 div.sk-item::before, #sk-container-id-1 div.sk-parallel-item::before {content: \"\";position: absolute;border-left: 1px solid gray;box-sizing: border-box;top: 0;bottom: 0;left: 50%;z-index: -1;}#sk-container-id-1 div.sk-parallel-item {display: flex;flex-direction: column;z-index: 1;position: relative;background-color: white;}#sk-container-id-1 div.sk-parallel-item:first-child::after {align-self: flex-end;width: 50%;}#sk-container-id-1 div.sk-parallel-item:last-child::after {align-self: flex-start;width: 50%;}#sk-container-id-1 div.sk-parallel-item:only-child::after {width: 0;}#sk-container-id-1 div.sk-dashed-wrapped {border: 1px dashed gray;margin: 0 0.4em 0.5em 0.4em;box-sizing: border-box;padding-bottom: 0.4em;background-color: white;}#sk-container-id-1 div.sk-label label {font-family: monospace;font-weight: bold;display: inline-block;line-height: 1.2em;}#sk-container-id-1 div.sk-label-container {text-align: center;}#sk-container-id-1 div.sk-container {/* jupyter's `normalize.less` sets `[hidden] { display: none; }` but bootstrap.min.css set `[hidden] { display: none !important; }` so we also need the `!important` here to be able to override the default hidden behavior on the sphinx rendered scikit-learn.org. See: https://github.com/scikit-learn/scikit-learn/issues/21755 */display: inline-block !important;position: relative;}#sk-container-id-1 div.sk-text-repr-fallback {display: none;}</style><div id=\"sk-container-id-1\" class=\"sk-top-container\"><div class=\"sk-text-repr-fallback\"><pre>LogisticRegression(max_iter=200)</pre><b>In a Jupyter environment, please rerun this cell to show the HTML representation or trust the notebook. <br />On GitHub, the HTML representation is unable to render, please try loading this page with nbviewer.org.</b></div><div class=\"sk-container\" hidden><div class=\"sk-item\"><div class=\"sk-estimator sk-toggleable\"><input class=\"sk-toggleable__control sk-hidden--visually\" id=\"sk-estimator-id-1\" type=\"checkbox\" checked><label for=\"sk-estimator-id-1\" class=\"sk-toggleable__label sk-toggleable__label-arrow\">LogisticRegression</label><div class=\"sk-toggleable__content\"><pre>LogisticRegression(max_iter=200)</pre></div></div></div></div></div>"
      ],
      "text/plain": [
       "LogisticRegression(max_iter=200)"
      ]
     },
     "execution_count": 17,
     "metadata": {},
     "output_type": "execute_result"
    }
   ],
   "source": [
    "log_reg1_sl = LogisticRegression(max_iter = 200)\n",
    "log_reg1_sl.fit(X_train1[cols], y_train)"
   ]
  },
  {
   "cell_type": "markdown",
   "metadata": {},
   "source": [
    "Let's calculate the SHAP values."
   ]
  },
  {
   "cell_type": "code",
   "execution_count": 18,
   "metadata": {},
   "outputs": [],
   "source": [
    "explainer = shap.Explainer(log_reg1_sl, X_train1[cols])\n",
    "shap_values = explainer.shap_values(X_train1[cols])"
   ]
  },
  {
   "cell_type": "markdown",
   "metadata": {},
   "source": [
    "The following bar plot tells us which features are most important to determine the model's predictions. It plots the global effect of each feature by calculating the mean absolute SHAP value across all observations, sorting the features from the most to the least important. The length of each bar corresponds to each feature's mean absolute SHAP value.\n",
    "\n",
    "According to this bar plot, Murray's points are more important than Jokic's assists, i.e., the former have a larger impact on the model's predictions. Specifically, Murray's points increase the log odds of winning by 0.56, while Jokic's assists increase the log odds of winning by 0.31 (the mean absolute SHAP values are computed in the cell right after the bar plot).\n",
    "\n",
    "Note that sorting the features according to the SHAP values and the standardized coefficients results in almost the same order. There's only one swap: Jokic's assists and Jokic's points. While this result is interesting, there's no much we can gain from it to answer our question of interest."
   ]
  },
  {
   "cell_type": "code",
   "execution_count": 19,
   "metadata": {},
   "outputs": [
    {
     "data": {
      "image/png": "[encoded data removed]",
      "text/plain": [
       "<Figure size 800x510 with 1 Axes>"
      ]
     },
     "metadata": {},
     "output_type": "display_data"
    }
   ],
   "source": [
    "shap.summary_plot(shap_values, X_train1[cols], plot_type = 'bar')"
   ]
  },
  {
   "cell_type": "code",
   "execution_count": 20,
   "metadata": {},
   "outputs": [
    {
     "data": {
      "text/html": [
       "<div>\n",
       "<style scoped>\n",
       "    .dataframe tbody tr th:only-of-type {\n",
       "        vertical-align: middle;\n",
       "    }\n",
       "\n",
       "    .dataframe tbody tr th {\n",
       "        vertical-align: top;\n",
       "    }\n",
       "\n",
       "    .dataframe thead th {\n",
       "        text-align: right;\n",
       "    }\n",
       "</style>\n",
       "<table border=\"1\" class=\"dataframe\">\n",
       "  <thead>\n",
       "    <tr style=\"text-align: right;\">\n",
       "      <th></th>\n",
       "      <th>JOKIC_PTS</th>\n",
       "      <th>JOKIC_REB</th>\n",
       "      <th>JOKIC_AST</th>\n",
       "      <th>MURRAY_PTS</th>\n",
       "      <th>MURRAY_REB</th>\n",
       "      <th>MURRAY_AST</th>\n",
       "      <th>REST_PTS</th>\n",
       "      <th>REST_REB</th>\n",
       "      <th>REST_AST</th>\n",
       "    </tr>\n",
       "  </thead>\n",
       "  <tbody>\n",
       "    <tr>\n",
       "      <th>372</th>\n",
       "      <td>0.286337</td>\n",
       "      <td>0.558656</td>\n",
       "      <td>0.307952</td>\n",
       "      <td>0.563176</td>\n",
       "      <td>0.127697</td>\n",
       "      <td>0.257834</td>\n",
       "      <td>0.735156</td>\n",
       "      <td>0.517725</td>\n",
       "      <td>0.2034</td>\n",
       "    </tr>\n",
       "  </tbody>\n",
       "</table>\n",
       "</div>"
      ],
      "text/plain": [
       "     JOKIC_PTS  JOKIC_REB  JOKIC_AST  MURRAY_PTS  MURRAY_REB  MURRAY_AST  \\\n",
       "372   0.286337   0.558656   0.307952    0.563176    0.127697    0.257834   \n",
       "\n",
       "     REST_PTS  REST_REB  REST_AST  \n",
       "372  0.735156  0.517725    0.2034  "
      ]
     },
     "execution_count": 20,
     "metadata": {},
     "output_type": "execute_result"
    }
   ],
   "source": [
    "# Bring the shap values to a DataFrame \n",
    "shap_values_df = pd.DataFrame(shap_values, columns = cols)\n",
    "\n",
    "# Compute the mean absolute SHAP value for each feature, placing each mean in a row at the end of the DataFrame\n",
    "shap_values_df.loc[len(shap_values_df)] = [np.mean(np.abs(shap_values_df[column].values)) for column in shap_values_df]\n",
    "\n",
    "# Let's check them out\n",
    "shap_values_df.tail(1)"
   ]
  },
  {
   "cell_type": "markdown",
   "metadata": {},
   "source": [
    "The following beeswarm plot not only sorts the features by their importance but also shows all SHAP values and how large and small values of the features affect the model's predictions.\n",
    "\n",
    "For example, increasing Murray's points increases the SHAP values. While the same holds for Jokic's assists, there seems to be more positive SHAP values for Murray's points and several of them are larger than the largest one for Jokic's assists. The violin plot in the cell right after the beeswarm plot shows a neater visualization."
   ]
  },
  {
   "cell_type": "code",
   "execution_count": 21,
   "metadata": {},
   "outputs": [
    {
     "name": "stderr",
     "output_type": "stream",
     "text": [
      "No data for colormapping provided via 'c'. Parameters 'vmin', 'vmax' will be ignored\n"
     ]
    },
    {
     "data": {
      "image/png": "[encoded data removed]",
      "text/plain": [
       "<Figure size 800x510 with 2 Axes>"
      ]
     },
     "metadata": {},
     "output_type": "display_data"
    }
   ],
   "source": [
    "shap.summary_plot(shap_values, X_train1[cols])\n",
    "#shap.plots.beeswarm(explainer(X_train1[cols])) delivers the same plot"
   ]
  },
  {
   "cell_type": "code",
   "execution_count": 22,
   "metadata": {},
   "outputs": [
    {
     "name": "stderr",
     "output_type": "stream",
     "text": [
      "No data for colormapping provided via 'c'. Parameters 'vmin', 'vmax' will be ignored\n"
     ]
    },
    {
     "data": {
      "image/png": "[encoded data removed]",
      "text/plain": [
       "<Figure size 800x510 with 2 Axes>"
      ]
     },
     "metadata": {},
     "output_type": "display_data"
    }
   ],
   "source": [
    "shap.summary_plot(shap_values, X_train1[cols], plot_type = 'violin')"
   ]
  },
  {
   "cell_type": "markdown",
   "metadata": {},
   "source": [
    "While above we focused on the overall importance of each feature, SHAP can also be used to check the importance of each feature for a particular observation, in this case, for a particular game. I leave the code for two plots:\n",
    "\n",
    "```python\n",
    "shap.plots.waterfall(explainer(X_train1[cols])[-1])\n",
    "```\n",
    "\n",
    "```python\n",
    "shap.initjs()\n",
    "shap.plots.force(explainer(X_train1[cols])[-1])\n",
    "```"
   ]
  },
  {
   "cell_type": "markdown",
   "metadata": {},
   "source": [
    "### 2.4. Discussion\n",
    "\n",
    "While the numbers from the standardized logistic regression and the SHAP values suggest Murray's points are more important than Jokic's assists to determine whether the Nuggets win a game, caution is advised. First, the comparison of the two coefficients from the logistic regression doesn't show a clear-cut difference between them; it shows a marginal difference at best. And second, to the best of my knowledge, there doesn't seem to be a way to statistically compare SHAP values as we did with the regression coefficients.\n",
    "\n",
    "Nevertheless, this exercise can still provide valuable insights into understanding how different stats contribute to determine whether the Nuggets win a game."
   ]
  },
  {
   "cell_type": "markdown",
   "metadata": {},
   "source": [
    "## 3. Model comparison"
   ]
  },
  {
   "cell_type": "markdown",
   "metadata": {},
   "source": [
    "### Akaike Information Criterion"
   ]
  },
  {
   "cell_type": "markdown",
   "metadata": {},
   "source": [
    "We can use the Akaike Information Criterion ($AIC$) to compare models (we'll compare this model against another model we'll estimate below). The $AIC$ is a measure of a model's relative quality for a given dataset. Thus, it can be used for model selection. Its formula is as follows:\n",
    "\n",
    "$AIC = 2k - 2ln(L),$\n",
    "\n",
    "where $k$ is the number of estimated parameters and $L$ is the maximized value of the likelihood function. The second term rewards goodness of fit, while the first one penalizes a large dimension, discouraging overfitting. Thus, the $AIC$ aims to balance goodness of fit and model simplicity, where smaller $AIC$ indicate a better balance. Thus, given a set of models, the preferred model is the one with the smallest $AIC$.\n",
    "\n",
    "Note that the regression output provides the term $ln(L)$ under the label $Log-Likelihood$. Thus:\n",
    "\n",
    "$AIC = 2 \\times 10 - 2 \\times (-186.08) = 392.16$\n",
    "\n",
    "We can also retrieve the $AIC$ using `statsmodels` tools (see the cell below)."
   ]
  },
  {
   "cell_type": "code",
   "execution_count": 23,
   "metadata": {},
   "outputs": [
    {
     "data": {
      "text/plain": [
       "392.1578228102163"
      ]
     },
     "execution_count": 23,
     "metadata": {},
     "output_type": "execute_result"
    }
   ],
   "source": [
    "log_reg1.aic"
   ]
  },
  {
   "cell_type": "markdown",
   "metadata": {},
   "source": [
    "### Removing one variable following the EDA\n",
    "\n",
    "According to the EDA, the points from the rest of the teammates have a moderate association with Jokic's points, Murray's points and the assists from the rest of the teammates. We'll remove the points from the rest of the teammates from the model and compare it to the model estimated above."
   ]
  },
  {
   "cell_type": "code",
   "execution_count": 24,
   "metadata": {},
   "outputs": [
    {
     "name": "stdout",
     "output_type": "stream",
     "text": [
      "Optimization terminated successfully.\n",
      "         Current function value: 0.525975\n",
      "         Iterations 6\n",
      "                           Logit Regression Results                           \n",
      "==============================================================================\n",
      "Dep. Variable:                    WIN   No. Observations:                  372\n",
      "Model:                          Logit   Df Residuals:                      363\n",
      "Method:                           MLE   Df Model:                            8\n",
      "Date:                Thu, 24 Aug 2023   Pseudo R-squ.:                  0.1989\n",
      "Time:                        18:16:35   Log-Likelihood:                -195.66\n",
      "converged:                       True   LL-Null:                       -244.24\n",
      "Covariance Type:            nonrobust   LLR p-value:                 1.622e-17\n",
      "==============================================================================\n",
      "                 coef    std err          z      P>|z|      [0.025      0.975]\n",
      "------------------------------------------------------------------------------\n",
      "JOKIC_PTS     -0.0121      0.140     -0.086      0.932      -0.287       0.263\n",
      "JOKIC_REB      0.6982      0.148      4.722      0.000       0.408       0.988\n",
      "JOKIC_AST      0.6310      0.144      4.392      0.000       0.349       0.913\n",
      "MURRAY_PTS     0.4039      0.149      2.712      0.007       0.112       0.696\n",
      "MURRAY_REB     0.0908      0.133      0.684      0.494      -0.169       0.351\n",
      "MURRAY_AST     0.4832      0.147      3.293      0.001       0.196       0.771\n",
      "REST_REB       0.7024      0.148      4.748      0.000       0.412       0.992\n",
      "REST_AST       0.6553      0.153      4.273      0.000       0.355       0.956\n",
      "Intercept      0.7412      0.130      5.699      0.000       0.486       0.996\n",
      "==============================================================================\n"
     ]
    }
   ],
   "source": [
    "scaler_s = StandardScaler()\n",
    "cols2 = ['JOKIC_PTS', 'JOKIC_REB', 'JOKIC_AST', 'MURRAY_PTS', 'MURRAY_REB', 'MURRAY_AST', 'REST_REB', 'REST_AST']\n",
    "X_train2 = pd.DataFrame(scaler_s.fit_transform(data[cols2]), columns = cols2)\n",
    "X_train2['Intercept'] = 1\n",
    "log_reg2 = sm.Logit(y_train,  X_train2).fit()\n",
    "print(log_reg2.summary())"
   ]
  },
  {
   "cell_type": "code",
   "execution_count": 25,
   "metadata": {},
   "outputs": [
    {
     "data": {
      "text/plain": [
       "409.325443626576"
      ]
     },
     "execution_count": 25,
     "metadata": {},
     "output_type": "execute_result"
    }
   ],
   "source": [
    "log_reg2.aic"
   ]
  },
  {
   "cell_type": "markdown",
   "metadata": {},
   "source": [
    "According to the $AIC$, the model that includes the points from the rest of the teammates is preferred."
   ]
  },
  {
   "cell_type": "code",
   "execution_count": null,
   "metadata": {},
   "outputs": [],
   "source": []
  }
 ],
 "metadata": {
  "kernelspec": {
   "display_name": "Python 3",
   "language": "python",
   "name": "python3"
  },
  "language_info": {
   "codemirror_mode": {
    "name": "ipython",
    "version": 3
   },
   "file_extension": ".py",
   "mimetype": "text/x-python",
   "name": "python",
   "nbconvert_exporter": "python",
   "pygments_lexer": "ipython3",
   "version": "3.10.11"
  },
  "orig_nbformat": 4
 },
 "nbformat": 4,
 "nbformat_minor": 2
}
